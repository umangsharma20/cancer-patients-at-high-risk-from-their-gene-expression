{
  "cells": [
    {
      "cell_type": "code",
      "execution_count": 3,
      "metadata": {
        "colab": {
          "base_uri": "https://localhost:8080/"
        },
        "id": "c7oBR_IVan9i",
        "outputId": "98fa59df-ef98-4e5f-bae5-a8a344239472"
      },
      "outputs": [
        {
          "name": "stdout",
          "output_type": "stream",
          "text": [
            "Validation AUC-ROC Score: 0.7645161290322581\n"
          ]
        }
      ],
      "source": [
        "# Import necessary libraries\n",
        "import pandas as pd\n",
        "import numpy as np\n",
        "from sklearn.model_selection import train_test_split\n",
        "from sklearn.ensemble import RandomForestClassifier\n",
        "from sklearn.metrics import roc_auc_score\n",
        "from sklearn.preprocessing import StandardScaler\n",
        "from sklearn.feature_selection import RFE\n",
        "\n",
        "# Load the training and test data\n",
        "train_data = pd.read_csv(\"kaggle_train.csv\")\n",
        "test_data = pd.read_csv(\"kaggle_test.csv\")\n",
        "\n",
        "# Extract the 'ID' column from the test data before scaling\n",
        "test_ids = test_data['ID']\n",
        "test_data = test_data.drop(\"ID\", axis=1)\n",
        "\n",
        "# Separate features and labels\n",
        "X_train = train_data.drop(\"Labels\", axis=1)\n",
        "y_train = train_data[\"Labels\"]\n",
        "\n",
        "# Standardize the data\n",
        "scaler = StandardScaler()\n",
        "X_train = scaler.fit_transform(X_train)\n",
        "test_data = scaler.transform(test_data)\n",
        "\n",
        "# Feature selection with RFE\n",
        "num_features_to_select = 10  # Adjust this value as needed\n",
        "rfe = RFE(estimator=RandomForestClassifier(n_estimators=100, random_state=42), n_features_to_select=num_features_to_select)\n",
        "X_train = rfe.fit_transform(X_train, y_train)\n",
        "test_data = rfe.transform(test_data)\n",
        "\n",
        "# Split the training data into a training set and a validation set\n",
        "X_train, X_val, y_train, y_val = train_test_split(X_train, y_train, test_size=0.2, random_state=50)\n",
        "\n",
        "# Train a machine learning model\n",
        "model = RandomForestClassifier(n_estimators=100, random_state=42)\n",
        "model.fit(X_train, y_train)\n",
        "\n",
        "# Make predictions on the validation set\n",
        "y_val_pred = model.predict_proba(X_val)[:, 1]\n",
        "\n",
        "# Calculate the AUC-ROC score on the validation set\n",
        "auc_score = roc_auc_score(y_val, y_val_pred)\n",
        "print(f\"Validation AUC-ROC Score: {auc_score}\")\n",
        "\n",
        "# Make predictions on the test set\n",
        "test_predictions = model.predict_proba(test_data)[:, 1]\n",
        "\n",
        "# Create a submission DataFrame\n",
        "submission = pd.DataFrame({\"ID\": test_ids, \"Labels\": test_predictions})\n",
        "\n",
        "# Save the submission to a CSV file\n",
        "submission.to_csv(\"output.csv\", index=False)"
      ]
    }
  ],
  "metadata": {
    "colab": {
      "provenance": []
    },
    "kernelspec": {
      "display_name": "Python 3",
      "name": "python3"
    },
    "language_info": {
      "name": "python"
    }
  },
  "nbformat": 4,
  "nbformat_minor": 0
}
